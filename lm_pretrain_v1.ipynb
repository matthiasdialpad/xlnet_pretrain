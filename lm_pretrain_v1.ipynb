{
 "cells": [
  {
   "cell_type": "code",
   "execution_count": 1,
   "metadata": {},
   "outputs": [
    {
     "name": "stdout",
     "output_type": "stream",
     "text": [
      "Fri Nov 27 23:36:17 2020       \n",
      "+-----------------------------------------------------------------------------+\n",
      "| NVIDIA-SMI 410.104      Driver Version: 410.104      CUDA Version: 10.0     |\n",
      "|-------------------------------+----------------------+----------------------+\n",
      "| GPU  Name        Persistence-M| Bus-Id        Disp.A | Volatile Uncorr. ECC |\n",
      "| Fan  Temp  Perf  Pwr:Usage/Cap|         Memory-Usage | GPU-Util  Compute M. |\n",
      "|===============================+======================+======================|\n",
      "|   0  Tesla V100-SXM2...  Off  | 00000000:00:04.0 Off |                    0 |\n",
      "| N/A   37C    P0    42W / 300W |      0MiB / 16130MiB |      0%      Default |\n",
      "+-------------------------------+----------------------+----------------------+\n",
      "                                                                               \n",
      "+-----------------------------------------------------------------------------+\n",
      "| Processes:                                                       GPU Memory |\n",
      "|  GPU       PID   Type   Process name                             Usage      |\n",
      "|=============================================================================|\n",
      "|  No running processes found                                                 |\n",
      "+-----------------------------------------------------------------------------+\n"
     ]
    }
   ],
   "source": [
    "!nvidia-smi"
   ]
  },
  {
   "cell_type": "code",
   "execution_count": 5,
   "metadata": {},
   "outputs": [
    {
     "name": "stdout",
     "output_type": "stream",
     "text": [
      "Default GPU Device: /device:GPU:0\n"
     ]
    }
   ],
   "source": [
    "#Check that tensorflow recognizes the GPU\n",
    "import tensorflow as tf\n",
    "if tf.test.gpu_device_name():\n",
    "    print('Default GPU Device: {}'.format(tf.test.gpu_device_name()))\n",
    "else:\n",
    "    print(\"Cannot recognize GPU\")"
   ]
  },
  {
   "cell_type": "code",
   "execution_count": 3,
   "metadata": {},
   "outputs": [],
   "source": [
    "def regex_filter(df):\n",
    "    df[\"final_utterance\"] = df[\"final_utterance\"].str.lower()\n",
    "\n",
    "    regex_patterns={\n",
    "      # replace \"uh.,\" \"um.,\" \"ah.,\" \"mm.,\", \"oh.,!?\" with blank but we leave uh-hum/mm-hmm in there\n",
    "      r'(\\buh(\\,|\\.|\\s|\\?))': ' ',\n",
    "      r'(\\bum(\\,|\\.|\\s|\\?))': ' ',\n",
    "      r'(\\bah\\W)': ' ',\n",
    "      r'(\\bmm(\\,|\\.|\\s|\\!|\\?))': ' ',\n",
    "      r'(\\boh(\\,|\\.|\\s|\\!|\\?))': ' ',\n",
    "\n",
    "      r'(\\s*(?:\\+?(\\d{1,3}))?[-. (]*(\\d{3})?[-. )]*(\\d{3})[-. ]*(\\d{4})(?: *x(\\d+))?\\s*)': ' ', # remove 10 digit and 7 digit numbers  e.g., 456-123-0000 and 123-0000\n",
    "      r'(\\d{3,})': '', # remove any numbers that has length 3 or more \n",
    "      r'\\b(\\w+)((?:\\W+?)(\\s+)?\\1\\b)+': r'\\1', # replaces duplicate words with a single instance of that word. \"yup, yup thank thank you. bye-bye\" -> \"yup thank you. bye\" \n",
    "      r'([a-zA-Z0-9._-]+(\\s+)?@[a-zA-Z0-9._-]+\\.[a-zA-Z0-9_-]+)': '[email]',\n",
    "      r'(\\bok\\b)': 'okay',  #replaces \"ok\" with \"okay\"\n",
    "      r'(ma\\'am)': 'madam', #replaces ma'am with madam \n",
    "      r'(\\s{2,})': ' '#replaces 2 or more whitespaces with a single one\n",
    "    }\n",
    "\n",
    "    df['final_utterance'].replace(regex=regex_patterns, inplace=True)\n",
    "    df['final_utterance'] = df['final_utterance'].str.strip() \n",
    "\n",
    "    return df"
   ]
  },
  {
   "cell_type": "code",
   "execution_count": 4,
   "metadata": {},
   "outputs": [
    {
     "data": {
      "text/plain": [
       "'/home/jupyter/xlnet_pretrain'"
      ]
     },
     "execution_count": 4,
     "metadata": {},
     "output_type": "execute_result"
    }
   ],
   "source": [
    "from google.cloud import bigquery\n",
    "import os\n",
    "import pandas as pd\n",
    "import numpy as np\n",
    "import sentencepiece as spm\n",
    "%pwd"
   ]
  },
  {
   "cell_type": "code",
   "execution_count": 255,
   "metadata": {},
   "outputs": [
    {
     "data": {
      "text/html": [
       "<div>\n",
       "<style scoped>\n",
       "    .dataframe tbody tr th:only-of-type {\n",
       "        vertical-align: middle;\n",
       "    }\n",
       "\n",
       "    .dataframe tbody tr th {\n",
       "        vertical-align: top;\n",
       "    }\n",
       "\n",
       "    .dataframe thead th {\n",
       "        text-align: right;\n",
       "    }\n",
       "</style>\n",
       "<table border=\"1\" class=\"dataframe\">\n",
       "  <thead>\n",
       "    <tr style=\"text-align: right;\">\n",
       "      <th></th>\n",
       "      <th>call_id</th>\n",
       "      <th>time_end</th>\n",
       "      <th>final_utterance</th>\n",
       "    </tr>\n",
       "  </thead>\n",
       "  <tbody>\n",
       "    <tr>\n",
       "      <th>0</th>\n",
       "      <td>4503643975647232</td>\n",
       "      <td>10.500</td>\n",
       "      <td>thank you for calling dialpad support, this is...</td>\n",
       "    </tr>\n",
       "    <tr>\n",
       "      <th>1</th>\n",
       "      <td>4503643975647232</td>\n",
       "      <td>14.558</td>\n",
       "      <td>hey, good morning.</td>\n",
       "    </tr>\n",
       "    <tr>\n",
       "      <th>2</th>\n",
       "      <td>4503643975647232</td>\n",
       "      <td>16.230</td>\n",
       "      <td>hi, may i have your name, madam?</td>\n",
       "    </tr>\n",
       "    <tr>\n",
       "      <th>3</th>\n",
       "      <td>4503643975647232</td>\n",
       "      <td>18.368</td>\n",
       "      <td>until the.</td>\n",
       "    </tr>\n",
       "    <tr>\n",
       "      <th>4</th>\n",
       "      <td>4503643975647232</td>\n",
       "      <td>21.150</td>\n",
       "      <td>hi, toby. how can i help?</td>\n",
       "    </tr>\n",
       "  </tbody>\n",
       "</table>\n",
       "</div>"
      ],
      "text/plain": [
       "            call_id  time_end  \\\n",
       "0  4503643975647232    10.500   \n",
       "1  4503643975647232    14.558   \n",
       "2  4503643975647232    16.230   \n",
       "3  4503643975647232    18.368   \n",
       "4  4503643975647232    21.150   \n",
       "\n",
       "                                     final_utterance  \n",
       "0  thank you for calling dialpad support, this is...  \n",
       "1                                 hey, good morning.  \n",
       "2                   hi, may i have your name, madam?  \n",
       "3                                         until the.  \n",
       "4                          hi, toby. how can i help?  "
      ]
     },
     "execution_count": 255,
     "metadata": {},
     "output_type": "execute_result"
    }
   ],
   "source": [
    "project_id = 'talkiq-data'\n",
    "client = bigquery.Client(project=project_id)\n",
    "\n",
    "query = \"\"\"\n",
    "SELECT call_id, time_end, final_utterance\n",
    "FROM `talkiq-data.ai_research.dialpad_xlnet_lm_pretrain`\n",
    "\"\"\"\n",
    "\n",
    "df = client.query(query).to_dataframe() \n",
    "df = regex_filter(df)\n",
    "\n",
    "df.head()"
   ]
  },
  {
   "cell_type": "code",
   "execution_count": 128,
   "metadata": {},
   "outputs": [],
   "source": [
    "#np.savetxt('train_sentencepiece.txt', df.final_utterance.values, fmt='%s')"
   ]
  },
  {
   "cell_type": "markdown",
   "metadata": {},
   "source": [
    "## Train SentencePiece model"
   ]
  },
  {
   "cell_type": "code",
   "execution_count": 5,
   "metadata": {},
   "outputs": [
    {
     "name": "stdout",
     "output_type": "stream",
     "text": [
      "/home/jupyter/xlnet_pretrain\n"
     ]
    }
   ],
   "source": [
    "!pwd"
   ]
  },
  {
   "cell_type": "code",
   "execution_count": 131,
   "metadata": {},
   "outputs": [],
   "source": [
    "spm.SentencePieceTrainer.train('--input=/home/jupyter/xlnet_pretrain/train_sentencepiece.txt \\\n",
    "                                --model_prefix=spiece \\\n",
    "                                --vocab_size=16000 \\\n",
    "                                --model_type=unigram \\\n",
    "                                --control_symbols=<cls>,<sep>,<pad>,<mask>,<eod>\\\n",
    "                                --user_defined_symbols=<eop>,.,(,),\",-,–,£,€ \\\n",
    "                                --character_coverage=0.99995 \\\n",
    "                                --shuffle_input_sentence \\\n",
    "                                --input_sentence_size=10000000')"
   ]
  },
  {
   "cell_type": "markdown",
   "metadata": {},
   "source": [
    "## Pre-process data for pretraining an XLNet model"
   ]
  },
  {
   "cell_type": "code",
   "execution_count": 242,
   "metadata": {},
   "outputs": [
    {
     "name": "stderr",
     "output_type": "stream",
     "text": [
      "/opt/conda/lib/python3.7/site-packages/pandas/core/indexing.py:670: SettingWithCopyWarning: \n",
      "A value is trying to be set on a copy of a slice from a DataFrame\n",
      "\n",
      "See the caveats in the documentation: https://pandas.pydata.org/pandas-docs/stable/user_guide/indexing.html#returning-a-view-versus-a-copy\n",
      "  iloc._setitem_with_indexer(indexer, value)\n"
     ]
    }
   ],
   "source": [
    "# df_temp = df.groupby(['call_id'])[['time_end']].agg(np.max).reset_index().rename(columns={'time_end':'max_timeend'})\n",
    "# df_processed = df.join(df_temp.set_index('call_id'), on='call_id')\n",
    "# df_processed.loc[(df_processed['time_end'] == df_processed['max_timeend']), ['final_utterance']] = df_processed.final_utterance + \" \\n\"\n",
    "\n",
    "call_ids=df.call_id\n",
    "unequal = call_ids.index[call_ids.shift(-1) != call_ids ]\n",
    "df['final_utterance'].loc[unequal] += ' \\n'"
   ]
  },
  {
   "cell_type": "code",
   "execution_count": null,
   "metadata": {},
   "outputs": [],
   "source": [
    "#np.savetxt('lm_pretrain.txt', df.final_utterance.values, fmt='%s')"
   ]
  },
  {
   "cell_type": "code",
   "execution_count": null,
   "metadata": {},
   "outputs": [],
   "source": [
    "#!python xlnet/data_utils.py --use_tpu=False --bsz_per_host=4 --num_core_per_host=1 --uncased=True --seq_len=512 --reuse_len=256 --input_glob=\"lm_pretrain.txt\" --save_dir='./dialpad_xlnet_4/' --sp_path='./dialpad_xlnet_4/spiece.model' --mask_alpha=6 --mask_beta=1 --num_predict=85 --bi_data=True"
   ]
  },
  {
   "cell_type": "code",
   "execution_count": 6,
   "metadata": {},
   "outputs": [
    {
     "name": "stdout",
     "output_type": "stream",
     "text": [
      "/opt/conda/lib/python3.7/site-packages/tensorflow/python/framework/dtypes.py:526: FutureWarning: Passing (type, 1) or '1type' as a synonym of type is deprecated; in a future version of numpy, it will be understood as (type, (1,)) / '(1,)type'.\n",
      "  _np_qint8 = np.dtype([(\"qint8\", np.int8, 1)])\n",
      "/opt/conda/lib/python3.7/site-packages/tensorflow/python/framework/dtypes.py:527: FutureWarning: Passing (type, 1) or '1type' as a synonym of type is deprecated; in a future version of numpy, it will be understood as (type, (1,)) / '(1,)type'.\n",
      "  _np_quint8 = np.dtype([(\"quint8\", np.uint8, 1)])\n",
      "/opt/conda/lib/python3.7/site-packages/tensorflow/python/framework/dtypes.py:528: FutureWarning: Passing (type, 1) or '1type' as a synonym of type is deprecated; in a future version of numpy, it will be understood as (type, (1,)) / '(1,)type'.\n",
      "  _np_qint16 = np.dtype([(\"qint16\", np.int16, 1)])\n",
      "/opt/conda/lib/python3.7/site-packages/tensorflow/python/framework/dtypes.py:529: FutureWarning: Passing (type, 1) or '1type' as a synonym of type is deprecated; in a future version of numpy, it will be understood as (type, (1,)) / '(1,)type'.\n",
      "  _np_quint16 = np.dtype([(\"quint16\", np.uint16, 1)])\n",
      "/opt/conda/lib/python3.7/site-packages/tensorflow/python/framework/dtypes.py:530: FutureWarning: Passing (type, 1) or '1type' as a synonym of type is deprecated; in a future version of numpy, it will be understood as (type, (1,)) / '(1,)type'.\n",
      "  _np_qint32 = np.dtype([(\"qint32\", np.int32, 1)])\n",
      "/opt/conda/lib/python3.7/site-packages/tensorflow/python/framework/dtypes.py:535: FutureWarning: Passing (type, 1) or '1type' as a synonym of type is deprecated; in a future version of numpy, it will be understood as (type, (1,)) / '(1,)type'.\n",
      "  np_resource = np.dtype([(\"resource\", np.ubyte, 1)])\n",
      "INFO:tensorflow:Use glob: lm_pretrain.txt\n",
      "INFO:tensorflow:Find 1 files: ['./lm_pretrain.txt']\n",
      "INFO:tensorflow:Task 0 process 1 files: ['./lm_pretrain.txt']\n",
      "INFO:tensorflow:Processing ./lm_pretrain.txt\n",
      "INFO:tensorflow:Loading line 0\n",
      "INFO:tensorflow:Loading line 100000\n",
      "INFO:tensorflow:Loading line 200000\n",
      "INFO:tensorflow:Loading line 300000\n",
      "INFO:tensorflow:Loading line 400000\n",
      "INFO:tensorflow:Loading line 500000\n",
      "INFO:tensorflow:Loading line 600000\n",
      "INFO:tensorflow:Loading line 700000\n",
      "INFO:tensorflow:Loading line 800000\n",
      "INFO:tensorflow:Loading line 900000\n",
      "INFO:tensorflow:Loading line 1000000\n",
      "INFO:tensorflow:Loading line 1100000\n",
      "INFO:tensorflow:Finish with line 1186477\n",
      "INFO:tensorflow:[Task 0] Total number line: 1186477\n",
      "INFO:tensorflow:Using perm indices [0] for pass 0\n",
      "INFO:tensorflow:Raw data shape (4, 11298430).\n",
      "INFO:tensorflow:Start writing ./dialpad_xlnet_bi4/tfrecords/train-0-0.bsz-4.vocabsz-16000.seqlen-512.reuse-256.uncased.bi.alpha-6.beta-1.fnp-85.tfrecords.\n",
      "INFO:tensorflow:Processing batch 0\n",
      "INFO:tensorflow:Processing batch 500\n",
      "INFO:tensorflow:Processing batch 1000\n",
      "INFO:tensorflow:Processing batch 1500\n",
      "INFO:tensorflow:Processing batch 2000\n",
      "INFO:tensorflow:Processing batch 2500\n",
      "INFO:tensorflow:Processing batch 3000\n",
      "INFO:tensorflow:Processing batch 3500\n",
      "INFO:tensorflow:Processing batch 4000\n",
      "INFO:tensorflow:Processing batch 4500\n",
      "INFO:tensorflow:Processing batch 5000\n",
      "INFO:tensorflow:Processing batch 5500\n",
      "INFO:tensorflow:Processing batch 6000\n",
      "INFO:tensorflow:Processing batch 6500\n",
      "INFO:tensorflow:Processing batch 7000\n",
      "INFO:tensorflow:Processing batch 7500\n",
      "INFO:tensorflow:Processing batch 8000\n",
      "INFO:tensorflow:Processing batch 8500\n",
      "INFO:tensorflow:Processing batch 9000\n",
      "INFO:tensorflow:Processing batch 9500\n",
      "INFO:tensorflow:Processing batch 10000\n",
      "INFO:tensorflow:Processing batch 10500\n",
      "INFO:tensorflow:Processing batch 11000\n",
      "INFO:tensorflow:Processing batch 11500\n",
      "INFO:tensorflow:Processing batch 12000\n",
      "INFO:tensorflow:Processing batch 12500\n",
      "INFO:tensorflow:Processing batch 13000\n",
      "INFO:tensorflow:Processing batch 13500\n",
      "INFO:tensorflow:Processing batch 14000\n",
      "INFO:tensorflow:Processing batch 14500\n",
      "INFO:tensorflow:Processing batch 15000\n",
      "INFO:tensorflow:Processing batch 15500\n",
      "INFO:tensorflow:Processing batch 16000\n",
      "INFO:tensorflow:Processing batch 16500\n",
      "INFO:tensorflow:Processing batch 17000\n",
      "INFO:tensorflow:Processing batch 17500\n",
      "INFO:tensorflow:Processing batch 18000\n",
      "INFO:tensorflow:Processing batch 18500\n",
      "INFO:tensorflow:Processing batch 19000\n",
      "INFO:tensorflow:Processing batch 19500\n",
      "INFO:tensorflow:Processing batch 20000\n",
      "INFO:tensorflow:Processing batch 20500\n",
      "INFO:tensorflow:Processing batch 21000\n",
      "INFO:tensorflow:Processing batch 21500\n",
      "INFO:tensorflow:Processing batch 22000\n",
      "INFO:tensorflow:Processing batch 22500\n",
      "INFO:tensorflow:Processing batch 23000\n",
      "INFO:tensorflow:Processing batch 23500\n",
      "INFO:tensorflow:Processing batch 24000\n",
      "INFO:tensorflow:Processing batch 24500\n",
      "INFO:tensorflow:Processing batch 25000\n",
      "INFO:tensorflow:Processing batch 25500\n",
      "INFO:tensorflow:Processing batch 26000\n",
      "INFO:tensorflow:Processing batch 26500\n",
      "INFO:tensorflow:Processing batch 27000\n",
      "INFO:tensorflow:Processing batch 27500\n",
      "INFO:tensorflow:Processing batch 28000\n",
      "INFO:tensorflow:Processing batch 28500\n",
      "INFO:tensorflow:Processing batch 29000\n",
      "INFO:tensorflow:Processing batch 29500\n",
      "INFO:tensorflow:Processing batch 30000\n",
      "INFO:tensorflow:Processing batch 30500\n",
      "INFO:tensorflow:Processing batch 31000\n",
      "INFO:tensorflow:Processing batch 31500\n",
      "INFO:tensorflow:Processing batch 32000\n",
      "INFO:tensorflow:Processing batch 32500\n",
      "INFO:tensorflow:Processing batch 33000\n",
      "INFO:tensorflow:Processing batch 33500\n",
      "INFO:tensorflow:Processing batch 34000\n",
      "INFO:tensorflow:Processing batch 34500\n",
      "INFO:tensorflow:Processing batch 35000\n",
      "INFO:tensorflow:Processing batch 35500\n",
      "INFO:tensorflow:Processing batch 36000\n",
      "INFO:tensorflow:Processing batch 36500\n",
      "INFO:tensorflow:Processing batch 37000\n",
      "INFO:tensorflow:Processing batch 37500\n",
      "INFO:tensorflow:Processing batch 38000\n",
      "INFO:tensorflow:Processing batch 38500\n",
      "INFO:tensorflow:Processing batch 39000\n",
      "INFO:tensorflow:Processing batch 39500\n",
      "INFO:tensorflow:Processing batch 40000\n",
      "INFO:tensorflow:Processing batch 40500\n",
      "INFO:tensorflow:Processing batch 41000\n",
      "INFO:tensorflow:Processing batch 41500\n",
      "INFO:tensorflow:Processing batch 42000\n",
      "INFO:tensorflow:Processing batch 42500\n",
      "INFO:tensorflow:Processing batch 43000\n",
      "INFO:tensorflow:Processing batch 43500\n",
      "INFO:tensorflow:Processing batch 44000\n",
      "INFO:tensorflow:Done writing ./dialpad_xlnet_bi4/tfrecords/train-0-0.bsz-4.vocabsz-16000.seqlen-512.reuse-256.uncased.bi.alpha-6.beta-1.fnp-85.tfrecords. Num of batches: 44133\n"
     ]
    }
   ],
   "source": [
    "#bi_data = True\n",
    "!python xlnet/data_utils.py --use_tpu=False --vocab_size=16000 --bsz_per_host=4 --num_core_per_host=1 --uncased=True --seq_len=512 --reuse_len=256 --input_glob=\"lm_pretrain.txt\" --save_dir='./dialpad_xlnet_bi4/' --sp_path='./dialpad_xlnet_bi4/spiece.model' --mask_alpha=6 --mask_beta=1 --num_predict=85 --bi_data=True\n"
   ]
  },
  {
   "cell_type": "markdown",
   "metadata": {},
   "source": [
    "## XLNet Model Pretrain"
   ]
  },
  {
   "cell_type": "code",
   "execution_count": null,
   "metadata": {},
   "outputs": [
    {
     "name": "stdout",
     "output_type": "stream",
     "text": [
      "/opt/conda/lib/python3.7/site-packages/tensorflow/python/framework/dtypes.py:526: FutureWarning: Passing (type, 1) or '1type' as a synonym of type is deprecated; in a future version of numpy, it will be understood as (type, (1,)) / '(1,)type'.\n",
      "  _np_qint8 = np.dtype([(\"qint8\", np.int8, 1)])\n",
      "/opt/conda/lib/python3.7/site-packages/tensorflow/python/framework/dtypes.py:527: FutureWarning: Passing (type, 1) or '1type' as a synonym of type is deprecated; in a future version of numpy, it will be understood as (type, (1,)) / '(1,)type'.\n",
      "  _np_quint8 = np.dtype([(\"quint8\", np.uint8, 1)])\n",
      "/opt/conda/lib/python3.7/site-packages/tensorflow/python/framework/dtypes.py:528: FutureWarning: Passing (type, 1) or '1type' as a synonym of type is deprecated; in a future version of numpy, it will be understood as (type, (1,)) / '(1,)type'.\n",
      "  _np_qint16 = np.dtype([(\"qint16\", np.int16, 1)])\n",
      "/opt/conda/lib/python3.7/site-packages/tensorflow/python/framework/dtypes.py:529: FutureWarning: Passing (type, 1) or '1type' as a synonym of type is deprecated; in a future version of numpy, it will be understood as (type, (1,)) / '(1,)type'.\n",
      "  _np_quint16 = np.dtype([(\"quint16\", np.uint16, 1)])\n",
      "/opt/conda/lib/python3.7/site-packages/tensorflow/python/framework/dtypes.py:530: FutureWarning: Passing (type, 1) or '1type' as a synonym of type is deprecated; in a future version of numpy, it will be understood as (type, (1,)) / '(1,)type'.\n",
      "  _np_qint32 = np.dtype([(\"qint32\", np.int32, 1)])\n",
      "/opt/conda/lib/python3.7/site-packages/tensorflow/python/framework/dtypes.py:535: FutureWarning: Passing (type, 1) or '1type' as a synonym of type is deprecated; in a future version of numpy, it will be understood as (type, (1,)) / '(1,)type'.\n",
      "  np_resource = np.dtype([(\"resource\", np.ubyte, 1)])\n",
      "INFO:tensorflow:n_token 16000\n",
      "INFO:tensorflow:Use the following tfrecord dirs: ['./dialpad_xlnet_bi4/tfrecords/']\n",
      "INFO:tensorflow:[0] Record glob: ./dialpad_xlnet_bi4/tfrecords/record_info-train-*.bsz-4.vocabsz-16000.seqlen-512.reuse-256.uncased.bi.alpha-6.beta-1.fnp-85.json\n",
      "INFO:tensorflow:[0] Num of record info path: 1\n",
      "INFO:tensorflow:[Dir 0] Number of chosen batches: 44133\n",
      "INFO:tensorflow:[Dir 0] Number of chosen files: 1\n",
      "INFO:tensorflow:['./dialpad_xlnet_bi4/tfrecords/train-0-0.bsz-4.vocabsz-16000.seqlen-512.reuse-256.uncased.bi.alpha-6.beta-1.fnp-85.tfrecords']\n",
      "INFO:tensorflow:Total number of batches: 44133\n",
      "INFO:tensorflow:Total number of files: 1\n",
      "INFO:tensorflow:['./dialpad_xlnet_bi4/tfrecords/train-0-0.bsz-4.vocabsz-16000.seqlen-512.reuse-256.uncased.bi.alpha-6.beta-1.fnp-85.tfrecords']\n",
      "INFO:tensorflow:num of batches 44133\n",
      "INFO:tensorflow:Host 0 handles 1 files\n",
      "INFO:tensorflow:label: Tensor(\"Cast_6:0\", shape=(1,), dtype=int32)\n",
      "INFO:tensorflow:seg_id: Tensor(\"Cast_7:0\", shape=(512,), dtype=int32)\n",
      "INFO:tensorflow:target_mapping: Tensor(\"Reshape_4:0\", shape=(85, 512), dtype=float32)\n",
      "INFO:tensorflow:target: Tensor(\"Cast_8:0\", shape=(85,), dtype=int32)\n",
      "INFO:tensorflow:target_mask: Tensor(\"Reshape_6:0\", shape=(85,), dtype=float32)\n",
      "INFO:tensorflow:perm_mask: Tensor(\"Reshape_7:0\", shape=(512, 512), dtype=float32)\n",
      "INFO:tensorflow:input_k: Tensor(\"Cast_9:0\", shape=(512,), dtype=int32)\n",
      "INFO:tensorflow:input_q: Tensor(\"Reshape_9:0\", shape=(512,), dtype=float32)\n",
      "INFO:tensorflow:memory input [<tf.Tensor 'Placeholder:0' shape=(384, 4, 768) dtype=float32>, <tf.Tensor 'Placeholder_1:0' shape=(384, 4, 768) dtype=float32>, <tf.Tensor 'Placeholder_2:0' shape=(384, 4, 768) dtype=float32>, <tf.Tensor 'Placeholder_3:0' shape=(384, 4, 768) dtype=float32>, <tf.Tensor 'Placeholder_4:0' shape=(384, 4, 768) dtype=float32>, <tf.Tensor 'Placeholder_5:0' shape=(384, 4, 768) dtype=float32>, <tf.Tensor 'Placeholder_6:0' shape=(384, 4, 768) dtype=float32>, <tf.Tensor 'Placeholder_7:0' shape=(384, 4, 768) dtype=float32>, <tf.Tensor 'Placeholder_8:0' shape=(384, 4, 768) dtype=float32>, <tf.Tensor 'Placeholder_9:0' shape=(384, 4, 768) dtype=float32>, <tf.Tensor 'Placeholder_10:0' shape=(384, 4, 768) dtype=float32>, <tf.Tensor 'Placeholder_11:0' shape=(384, 4, 768) dtype=float32>]\n",
      "INFO:tensorflow:Use float type <dtype: 'float32'>\n",
      "WARNING:tensorflow:From /opt/conda/lib/python3.7/site-packages/tensorflow/python/framework/op_def_library.py:263: colocate_with (from tensorflow.python.framework.ops) is deprecated and will be removed in a future version.\n",
      "Instructions for updating:\n",
      "Colocations handled automatically by placer.\n",
      "WARNING:tensorflow:From /home/jupyter/xlnet_pretrain/xlnet/modeling.py:535: dropout (from tensorflow.python.layers.core) is deprecated and will be removed in a future version.\n",
      "Instructions for updating:\n",
      "Use keras.layers.dropout instead.\n",
      "WARNING:tensorflow:From /opt/conda/lib/python3.7/site-packages/tensorflow/python/keras/layers/core.py:143: calling dropout (from tensorflow.python.ops.nn_ops) with keep_prob is deprecated and will be removed in a future version.\n",
      "Instructions for updating:\n",
      "Please use `rate` instead of `keep_prob`. Rate should be set to `rate = 1 - keep_prob`.\n",
      "ERROR:tensorflow:==================================\n",
      "Object was never used (type <class 'tensorflow.python.framework.ops.Operation'>):\n",
      "<tf.Operation 'model/transformer/assert_equal/Assert/Assert' type=Assert>\n",
      "If you want to mark it as used call its \"mark_used()\" method.\n",
      "It was originally created here:\n",
      "  File \"xlnet/train_gpu.py\", line 331, in <module>\n",
      "    tf.app.run()  File \"/opt/conda/lib/python3.7/site-packages/tensorflow/python/platform/app.py\", line 125, in run\n",
      "    _sys.exit(main(argv))  File \"xlnet/train_gpu.py\", line 327, in main\n",
      "    train(\"/gpu:0\")  File \"xlnet/train_gpu.py\", line 244, in train\n",
      "    mems=mems_i)  File \"xlnet/train_gpu.py\", line 164, in single_core_graph\n",
      "    is_training=is_training)  File \"xlnet/train_gpu.py\", line 140, in model_fn\n",
      "    FLAGS, features, labels, mems, is_training)  File \"/home/jupyter/xlnet_pretrain/xlnet/function_builder.py\", line 130, in get_loss\n",
      "    return two_stream_loss(FLAGS, features, labels, mems, is_training)  File \"/home/jupyter/xlnet_pretrain/xlnet/function_builder.py\", line 90, in two_stream_loss\n",
      "    inp_q=inp_q)  File \"/home/jupyter/xlnet_pretrain/xlnet/xlnet.py\", line 222, in __init__\n",
      "    ) = modeling.transformer_xl(**tfm_args)  File \"/home/jupyter/xlnet_pretrain/xlnet/modeling.py\", line 567, in transformer_xl\n",
      "    bsz=bsz, dtype=tf_float)  File \"/home/jupyter/xlnet_pretrain/xlnet/modeling.py\", line 236, in relative_positional_encoding\n",
      "    tf.debugging.assert_equal(bsz % 2, 0)  File \"/opt/conda/lib/python3.7/site-packages/tensorflow/python/ops/check_ops.py\", line 512, in assert_equal\n",
      "    return control_flow_ops.Assert(condition, data, summarize=summarize)  File \"/opt/conda/lib/python3.7/site-packages/tensorflow/python/util/tf_should_use.py\", line 193, in wrapped\n",
      "    return _add_should_use_warning(fn(*args, **kwargs))\n",
      "==================================\n",
      "\n",
      "WARNING: The TensorFlow contrib module will not be included in TensorFlow 2.0.\n",
      "For more information, please see:\n",
      "  * https://github.com/tensorflow/community/blob/master/rfcs/20180907-contrib-sunset.md\n",
      "  * https://github.com/tensorflow/addons\n",
      "If you depend on functionality not listed there, please file an issue.\n",
      "\n",
      "WARNING:tensorflow:From /home/jupyter/xlnet_pretrain/xlnet/modeling.py:67: dense (from tensorflow.python.layers.core) is deprecated and will be removed in a future version.\n",
      "Instructions for updating:\n",
      "Use keras.layers.dense instead.\n",
      "INFO:tensorflow:#params: 104446336\n",
      "WARNING:tensorflow:From /opt/conda/lib/python3.7/site-packages/tensorflow/python/ops/math_ops.py:3066: to_int32 (from tensorflow.python.ops.math_ops) is deprecated and will be removed in a future version.\n",
      "Instructions for updating:\n",
      "Use tf.cast instead.\n",
      "WARNING:tensorflow:From /opt/conda/lib/python3.7/site-packages/tensorflow/python/training/learning_rate_decay_v2.py:321: div (from tensorflow.python.ops.math_ops) is deprecated and will be removed in a future version.\n",
      "Instructions for updating:\n",
      "Deprecated in favor of operator or tf.math.divide.\n",
      "2020-11-27 23:58:57.591466: I tensorflow/core/platform/cpu_feature_guard.cc:141] Your CPU supports instructions that this TensorFlow binary was not compiled to use: AVX2 FMA\n",
      "2020-11-27 23:58:57.598070: I tensorflow/core/platform/profile_utils/cpu_utils.cc:94] CPU Frequency: 2200000000 Hz\n",
      "2020-11-27 23:58:57.598892: I tensorflow/compiler/xla/service/service.cc:150] XLA service 0x55f2046612d0 executing computations on platform Host. Devices:\n",
      "2020-11-27 23:58:57.598934: I tensorflow/compiler/xla/service/service.cc:158]   StreamExecutor device (0): <undefined>, <undefined>\n",
      "2020-11-27 23:58:57.706342: I tensorflow/stream_executor/cuda/cuda_gpu_executor.cc:998] successful NUMA node read from SysFS had negative value (-1), but there must be at least one NUMA node, so returning NUMA node zero\n",
      "2020-11-27 23:58:57.706772: I tensorflow/core/common_runtime/gpu/gpu_device.cc:1433] Found device 0 with properties: \n",
      "name: Tesla V100-SXM2-16GB major: 7 minor: 0 memoryClockRate(GHz): 1.53\n",
      "pciBusID: 0000:00:04.0\n",
      "totalMemory: 15.75GiB freeMemory: 14.95GiB\n",
      "2020-11-27 23:58:57.706799: I tensorflow/core/common_runtime/gpu/gpu_device.cc:1512] Adding visible gpu devices: 0\n",
      "2020-11-27 23:58:57.707767: I tensorflow/core/common_runtime/gpu/gpu_device.cc:984] Device interconnect StreamExecutor with strength 1 edge matrix:\n",
      "2020-11-27 23:58:57.707809: I tensorflow/core/common_runtime/gpu/gpu_device.cc:990]      0 \n",
      "2020-11-27 23:58:57.707822: I tensorflow/core/common_runtime/gpu/gpu_device.cc:1003] 0:   N \n",
      "2020-11-27 23:58:57.708116: I tensorflow/core/common_runtime/gpu/gpu_device.cc:1115] Created TensorFlow device (/job:localhost/replica:0/task:0/device:GPU:0 with 14540 MB memory) -> physical GPU (device: 0, name: Tesla V100-SXM2-16GB, pci bus id: 0000:00:04.0, compute capability: 7.0)\n",
      "2020-11-27 23:58:57.710309: I tensorflow/compiler/xla/service/service.cc:150] XLA service 0x55f20442aac0 executing computations on platform CUDA. Devices:\n",
      "2020-11-27 23:58:57.710342: I tensorflow/compiler/xla/service/service.cc:158]   StreamExecutor device (0): Tesla V100-SXM2-16GB, Compute Capability 7.0\n",
      "2020-11-27 23:59:09.571122: I tensorflow/stream_executor/dso_loader.cc:152] successfully opened CUDA library libcublas.so.10.0 locally\n"
     ]
    }
   ],
   "source": [
    "!python xlnet/train_gpu.py --corpus_info_path=\"./dialpad_xlnet_bi4/corpus_info.json\" --model_dir=\"./dialpad_xlnet_bi4/model/\" --record_info_dir=\"./dialpad_xlnet_bi4/tfrecords/\" --use_tpu=False --train_batch_size=4 --num_core_per_host=1 --vocab_size=16000 --seq_len=512 --reuse_len=256 --mem_len=384 --perm_size=256 --untie_r=True --mask_alpha=6 --mask_beta=1 --num_predict=85 --train_steps=300000 --iterations=3000 --save_steps=30000 --uncased=True --bi_data=True --d_head=64 --d_inner=3072 --d_model=768 --ff_activation=gelu --n_head=12 --n_layer=12 --learning_rate=3e-4\n"
   ]
  },
  {
   "cell_type": "code",
   "execution_count": null,
   "metadata": {},
   "outputs": [],
   "source": []
  }
 ],
 "metadata": {
  "environment": {
   "name": "common-cu100.m59",
   "type": "gcloud",
   "uri": "gcr.io/deeplearning-platform-release/base-cu100:m59"
  },
  "kernelspec": {
   "display_name": "Python 3",
   "language": "python",
   "name": "python3"
  },
  "language_info": {
   "codemirror_mode": {
    "name": "ipython",
    "version": 3
   },
   "file_extension": ".py",
   "mimetype": "text/x-python",
   "name": "python",
   "nbconvert_exporter": "python",
   "pygments_lexer": "ipython3",
   "version": "3.7.8"
  }
 },
 "nbformat": 4,
 "nbformat_minor": 4
}
